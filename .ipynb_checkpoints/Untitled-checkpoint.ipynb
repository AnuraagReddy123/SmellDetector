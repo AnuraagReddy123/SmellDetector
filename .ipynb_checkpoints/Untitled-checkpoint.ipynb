{
 "cells": [
  {
   "cell_type": "code",
   "execution_count": null,
   "id": "466de800",
   "metadata": {},
   "outputs": [],
   "source": []
  },
  {
   "cell_type": "code",
   "execution_count": null,
   "id": "c2119978",
   "metadata": {},
   "outputs": [],
   "source": []
  },
  {
   "cell_type": "code",
   "execution_count": null,
   "id": "da6143e7",
   "metadata": {},
   "outputs": [],
   "source": [
    "# long parameter list\n",
    "def fun(a,b,c,d,e):\n",
    "    print(\"hello\")"
   ]
  },
  {
   "cell_type": "code",
   "execution_count": null,
   "id": "a3b19387",
   "metadata": {},
   "outputs": [],
   "source": [
    "def long_method():\n",
    "    # long method\n",
    "    a=1;\n",
    "    if(a == 1):\n",
    "        print(a)"
   ]
  },
  {
   "cell_type": "code",
   "execution_count": null,
   "id": "85c6a6a5",
   "metadata": {},
   "outputs": [],
   "source": [
    "lambda: (doFoo('abc'),doBar(123),doBaz(),doFoo('abc'),doBar(123),doBaz(),doFoo('abc'),doBar(123),doBaz(),doFoo('abc'),doBar(123),doBaz().)"
   ]
  },
  {
   "cell_type": "code",
   "execution_count": null,
   "id": "37ffa186",
   "metadata": {},
   "outputs": [],
   "source": [
    "from sklearn import *"
   ]
  },
  {
   "cell_type": "code",
   "execution_count": null,
   "id": "91ad628d",
   "metadata": {},
   "outputs": [],
   "source": [
    "participant.attend(event).setNotifications('silent').getSocialStream('twitter').postStatus('Joining '+event.name).follow(event.getSocialId('twitter'))"
   ]
  },
  {
   "cell_type": "code",
   "execution_count": 8,
   "id": "dd2f6bfe",
   "metadata": {},
   "outputs": [
    {
     "name": "stdout",
     "output_type": "stream",
     "text": [
      "2\n"
     ]
    }
   ],
   "source": [
    "class large_class:\n",
    "    a = 1;\n",
    "    b = 1;\n",
    "    c = a+b;\n",
    "    print(c);"
   ]
  },
  {
   "cell_type": "code",
   "execution_count": 7,
   "id": "4b531d0e",
   "metadata": {},
   "outputs": [
    {
     "name": "stdout",
     "output_type": "stream",
     "text": [
      "14\n",
      "10\n",
      "8\n"
     ]
    }
   ],
   "source": [
    "# counts empty lines also\n",
    "x = 2\n",
    "y = x + 2\n",
    "z = y + x + 2\n",
    "print(z + y + x)\n",
    "print(z + x)\n",
    "print(z)"
   ]
  },
  {
   "cell_type": "code",
   "execution_count": 6,
   "id": "f7c39fdd",
   "metadata": {},
   "outputs": [
    {
     "data": {
      "text/plain": [
       "7"
      ]
     },
     "execution_count": 6,
     "metadata": {},
     "output_type": "execute_result"
    }
   ],
   "source": [
    "p = 4\n",
    "q = 3 + p\n",
    "p = q + 3\n",
    "p\n",
    "q"
   ]
  },
  {
   "cell_type": "code",
   "execution_count": 5,
   "id": "9249484d",
   "metadata": {},
   "outputs": [],
   "source": [
    "var = 1\n",
    "var = var + 2"
   ]
  },
  {
   "cell_type": "code",
   "execution_count": null,
   "id": "8a93acfe",
   "metadata": {},
   "outputs": [],
   "source": [
    "!pip install numpy"
   ]
  },
  {
   "cell_type": "code",
   "execution_count": null,
   "id": "59b985a5",
   "metadata": {},
   "outputs": [],
   "source": [
    "df.drop['col1']\n",
    "a = a+4"
   ]
  }
 ],
 "metadata": {
  "kernelspec": {
   "display_name": "Python 3 (ipykernel)",
   "language": "python",
   "name": "python3"
  },
  "language_info": {
   "codemirror_mode": {
    "name": "ipython",
    "version": 3
   },
   "file_extension": ".py",
   "mimetype": "text/x-python",
   "name": "python",
   "nbconvert_exporter": "python",
   "pygments_lexer": "ipython3",
   "version": "3.9.7"
  }
 },
 "nbformat": 4,
 "nbformat_minor": 5
}
